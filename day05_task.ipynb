{
  "cells": [
    {
      "cell_type": "markdown",
      "metadata": {
        "id": "ibhwut2tb0YY"
      },
      "source": [
        "# Class Task: Python Programming Concepts"
      ],
      "id": "ibhwut2tb0YY"
    },
    {
      "cell_type": "markdown",
      "metadata": {
        "id": "96ye9o5zb0Yb"
      },
      "source": [
        "## Task 1: List Comprehension and Iterables"
      ],
      "id": "96ye9o5zb0Yb"
    },
    {
      "cell_type": "markdown",
      "metadata": {
        "id": "hbkFlH8Gb0Yc"
      },
      "source": [
        "### List Comprehension"
      ],
      "id": "hbkFlH8Gb0Yc"
    },
    {
      "cell_type": "markdown",
      "metadata": {
        "id": "pH_J2XSrb0Yc"
      },
      "source": [
        "1. Write a list comprehension to generate a list of the squares of the first 10 natural numbers (i.e., 1^2, 2^2, ..., 10^2).\n",
        "2. Use a conditional list comprehension to generate a list of all even numbers from 1 to 20."
      ],
      "id": "pH_J2XSrb0Yc"
    },
    {
      "cell_type": "code",
      "execution_count": null,
      "metadata": {
        "colab": {
          "base_uri": "https://localhost:8080/"
        },
        "id": "8hXe5iHKb0Yd",
        "outputId": "dd0bc819-cdb8-435e-c62d-aced8c1d472d"
      },
      "outputs": [
        {
          "output_type": "stream",
          "name": "stdout",
          "text": [
            "[0, 1, 4, 9, 16, 25, 36, 49, 64, 81]\n"
          ]
        }
      ],
      "source": [
        "squares = []\n",
        "for x in range(10):\n",
        "    squares.append(x**2)\n",
        "print(squares)\n"
      ],
      "id": "8hXe5iHKb0Yd"
    },
    {
      "cell_type": "code",
      "execution_count": null,
      "metadata": {
        "colab": {
          "base_uri": "https://localhost:8080/"
        },
        "id": "20hLhdPUb0Ye",
        "outputId": "ee750f17-47ff-44e5-963d-d63200147f53"
      },
      "outputs": [
        {
          "output_type": "stream",
          "name": "stdout",
          "text": [
            "[0, 2, 4, 6, 8, 10, 12, 14, 16, 18]\n"
          ]
        }
      ],
      "source": [
        "evens = [x for x in range(20) if x % 2 == 0]\n",
        "print(evens)\n"
      ],
      "id": "20hLhdPUb0Ye"
    },
    {
      "cell_type": "markdown",
      "metadata": {
        "id": "GzfxegHEb0Ye"
      },
      "source": [
        "### Iterables and Iterators"
      ],
      "id": "GzfxegHEb0Ye"
    },
    {
      "cell_type": "markdown",
      "metadata": {
        "id": "1muqeBp3b0Yf"
      },
      "source": [
        "1. Create a list of the first 5 Fibonacci numbers. Use an iterator to print each number.\n",
        "2. Write a generator function that yields the squares of numbers from 1 to 5. Use a for loop to print each generated value."
      ],
      "id": "1muqeBp3b0Yf"
    },
    {
      "cell_type": "code",
      "execution_count": null,
      "metadata": {
        "colab": {
          "base_uri": "https://localhost:8080/"
        },
        "id": "lIENiOArb0Yf",
        "outputId": "61c17907-cf94-407b-ffb9-e436cb281fac"
      },
      "outputs": [
        {
          "output_type": "stream",
          "name": "stdout",
          "text": [
            "0\n",
            "1\n",
            "1\n",
            "2\n",
            "3\n"
          ]
        }
      ],
      "source": [
        "# Define a generator function for Fibonacci sequence\n",
        "def fibonacci_sequence():\n",
        "    a, b = 0, 1\n",
        "    yield a\n",
        "    yield b\n",
        "    count = 2\n",
        "    while count < 5:  # We want the first 5 Fibonacci numbers\n",
        "        a, b = b, a + b\n",
        "        yield b\n",
        "        count += 1\n",
        "\n",
        "# Create an iterator for Fibonacci numbers\n",
        "fibonacci_iter = fibonacci_sequence()\n",
        "\n",
        "# Print each Fibonacci number using the iterator\n",
        "for number in fibonacci_iter:\n",
        "    print(number)\n"
      ],
      "id": "lIENiOArb0Yf"
    },
    {
      "cell_type": "code",
      "execution_count": null,
      "metadata": {
        "colab": {
          "base_uri": "https://localhost:8080/"
        },
        "id": "Nuu5ZcN5b0Yg",
        "outputId": "ceb42302-2779-4a47-f5c8-ebd75359bd17"
      },
      "outputs": [
        {
          "output_type": "stream",
          "name": "stdout",
          "text": [
            "1\n",
            "4\n",
            "9\n",
            "16\n",
            "25\n"
          ]
        }
      ],
      "source": [
        "# Generator function to yield squares of numbers from 1 to 5\n",
        "def square_generator():\n",
        "    for num in range(1, 6):  # Numbers from 1 to 5\n",
        "        yield num ** 2\n",
        "\n",
        "# Using a for loop to print each generated value\n",
        "for square in square_generator():\n",
        "    print(square)\n"
      ],
      "id": "Nuu5ZcN5b0Yg"
    },
    {
      "cell_type": "markdown",
      "metadata": {
        "id": "fDOt2CGvb0Yg"
      },
      "source": [
        "## Task 2: Functions and Variable Scope"
      ],
      "id": "fDOt2CGvb0Yg"
    },
    {
      "cell_type": "markdown",
      "metadata": {
        "id": "NRQNIve_b0Yh"
      },
      "source": [
        "### Functions"
      ],
      "id": "NRQNIve_b0Yh"
    },
    {
      "cell_type": "markdown",
      "metadata": {
        "id": "dFQha8nWb0Yh"
      },
      "source": [
        "1. Write a function `is_even(n)` that returns `True` if `n` is an even number, and `False` otherwise.\n",
        "2. Create a function `calculate_rectangle_area` that takes the width and height of a rectangle and returns its area."
      ],
      "id": "dFQha8nWb0Yh"
    },
    {
      "cell_type": "code",
      "execution_count": null,
      "metadata": {
        "id": "SCeY9iJDb0Yh"
      },
      "outputs": [],
      "source": [
        "def is_even(n):\n",
        "    return n % 2 == 0\n"
      ],
      "id": "SCeY9iJDb0Yh"
    },
    {
      "cell_type": "code",
      "execution_count": null,
      "metadata": {
        "id": "3ahwoZ1nb0Yi"
      },
      "outputs": [],
      "source": [
        "def calculate_rectangle_area(width, height):\n",
        "    area = width * height\n",
        "    return area\n",
        "\n"
      ],
      "id": "3ahwoZ1nb0Yi"
    },
    {
      "cell_type": "markdown",
      "metadata": {
        "id": "lB-2D3Nqb0Yi"
      },
      "source": [
        "### Variable Scope"
      ],
      "id": "lB-2D3Nqb0Yi"
    },
    {
      "cell_type": "markdown",
      "metadata": {
        "id": "sznjlHdWb0Yi"
      },
      "source": [
        "1. Write a function that modifies a global variable. Demonstrate the function and print the global variable before and after calling the function.\n",
        "2. Create a nested function where the inner function accesses a variable defined in the outer function. Demonstrate the functionality."
      ],
      "id": "sznjlHdWb0Yi"
    },
    {
      "cell_type": "code",
      "execution_count": null,
      "metadata": {
        "colab": {
          "base_uri": "https://localhost:8080/"
        },
        "id": "d7hryuIBb0Yj",
        "outputId": "9953038b-ab53-4389-c7ec-afb301e9598e"
      },
      "outputs": [
        {
          "output_type": "stream",
          "name": "stdout",
          "text": [
            "Before calling modify_global, global_var = 10\n",
            "After calling modify_global, global_var = 20\n"
          ]
        }
      ],
      "source": [
        "# Global variable\n",
        "global_var = 10\n",
        "\n",
        "# Function to modify the global variable\n",
        "def modify_global():\n",
        "    global global_var\n",
        "    global_var = 20\n",
        "\n",
        "# Display initial value of the global variable\n",
        "print(f'Before calling modify_global, global_var = {global_var}')\n",
        "\n",
        "# Call the function to modify the global variable\n",
        "modify_global()\n",
        "\n",
        "# Display updated value of the global variable\n",
        "print(f'After calling modify_global, global_var = {global_var}')\n",
        "\n"
      ],
      "id": "d7hryuIBb0Yj"
    },
    {
      "cell_type": "code",
      "execution_count": null,
      "metadata": {
        "colab": {
          "base_uri": "https://localhost:8080/"
        },
        "id": "J-wEX-iKb0Yj",
        "outputId": "1d0aae35-a4bb-4463-9c5b-c9c9562eced5"
      },
      "outputs": [
        {
          "output_type": "stream",
          "name": "stdout",
          "text": [
            "Inner function accesses: I'm defined in the outer function\n"
          ]
        }
      ],
      "source": [
        "def outer_function():\n",
        "    outer_variable = \"I'm defined in the outer function\"\n",
        "\n",
        "    def inner_function():\n",
        "        print(f\"Inner function accesses: {outer_variable}\")\n",
        "\n",
        "    # Call the inner function\n",
        "    inner_function()\n",
        "\n",
        "# Call the outer function\n",
        "outer_function()\n",
        "\n"
      ],
      "id": "J-wEX-iKb0Yj"
    },
    {
      "cell_type": "markdown",
      "metadata": {
        "id": "AG-MASZrb0Yk"
      },
      "source": [
        "## Task 3: File Handling and Exception Handling"
      ],
      "id": "AG-MASZrb0Yk"
    },
    {
      "cell_type": "markdown",
      "metadata": {
        "id": "ba50OavDb0Yk"
      },
      "source": [
        "### File Handling"
      ],
      "id": "ba50OavDb0Yk"
    },
    {
      "cell_type": "markdown",
      "metadata": {
        "id": "0i5rsoj9b0Yl"
      },
      "source": [
        "1. Write a program that writes the first 10 natural numbers to a file named `numbers.txt`, each number on a new line.\n",
        "2. Read the content of the file `numbers.txt` and print it to the console."
      ],
      "id": "0i5rsoj9b0Yl"
    },
    {
      "cell_type": "code",
      "execution_count": null,
      "metadata": {
        "id": "tEZws20qb0Yl"
      },
      "outputs": [],
      "source": [
        "# Open 'numbers.txt' in write mode ('w')\n",
        "with open('numbers.txt', 'w') as file:\n",
        "    # Write the first 10 natural numbers to the file, each on a new line\n",
        "    for number in range(1, 11):\n",
        "        file.write(f\"{number}\\n\")\n"
      ],
      "id": "tEZws20qb0Yl"
    },
    {
      "cell_type": "code",
      "execution_count": null,
      "metadata": {
        "colab": {
          "base_uri": "https://localhost:8080/"
        },
        "id": "5EZVSP5fb0Ym",
        "outputId": "030791d5-63a0-45ec-aeba-f3d3aef4597a"
      },
      "outputs": [
        {
          "output_type": "stream",
          "name": "stdout",
          "text": [
            "1\n",
            "2\n",
            "3\n",
            "4\n",
            "5\n",
            "6\n",
            "7\n",
            "8\n",
            "9\n",
            "10\n",
            "\n"
          ]
        }
      ],
      "source": [
        "# Open the file 'numbers.txt' in read mode ('r')\n",
        "with open('numbers.txt', 'r') as file:\n",
        "    # Read all lines from the file\n",
        "    content = file.read()\n",
        "\n",
        "# Print the content to the console\n",
        "print(content)\n",
        "\n"
      ],
      "id": "5EZVSP5fb0Ym"
    },
    {
      "cell_type": "markdown",
      "metadata": {
        "id": "7RrE9kwNb0Ym"
      },
      "source": [
        "### Exception Handling"
      ],
      "id": "7RrE9kwNb0Ym"
    },
    {
      "cell_type": "markdown",
      "metadata": {
        "id": "xpLlrkx5b0Yn"
      },
      "source": [
        "1. Modify the file reading program to handle the case where the file does not exist. Print an appropriate message if the file is not found.\n",
        "2. Write a function that takes a list of numbers and returns their average. Use exception handling to manage cases where the list is empty or contains non-numeric values."
      ],
      "id": "xpLlrkx5b0Yn"
    },
    {
      "cell_type": "code",
      "execution_count": null,
      "metadata": {
        "colab": {
          "base_uri": "https://localhost:8080/"
        },
        "id": "_lfqdWmJb0Yn",
        "outputId": "3831ad16-9a1b-4798-f46b-30d1b5a0be91"
      },
      "outputs": [
        {
          "output_type": "stream",
          "name": "stdout",
          "text": [
            "1\n",
            "2\n",
            "3\n",
            "4\n",
            "5\n",
            "6\n",
            "7\n",
            "8\n",
            "9\n",
            "10\n",
            "\n"
          ]
        }
      ],
      "source": [
        "try:\n",
        "    # Open 'numbers.txt' in read mode ('r')\n",
        "    with open('numbers.txt', 'r') as file:\n",
        "        # Read all lines from the file\n",
        "        content = file.read()\n",
        "        # Print the content to the console\n",
        "        print(content)\n",
        "except FileNotFoundError:\n",
        "    print(\"The file 'numbers.txt' was not found.\")\n",
        "\n"
      ],
      "id": "_lfqdWmJb0Yn"
    },
    {
      "cell_type": "code",
      "execution_count": null,
      "metadata": {
        "colab": {
          "base_uri": "https://localhost:8080/"
        },
        "id": "1w2fs2rHb0Yn",
        "outputId": "dccb903a-5924-4fbd-fd01-a4175eeca04c"
      },
      "outputs": [
        {
          "output_type": "stream",
          "name": "stdout",
          "text": [
            "Average of numbers1: 3.0\n",
            "Error: The list is empty. Cannot calculate average.\n",
            "Error: The list contains non-numeric values.\n"
          ]
        }
      ],
      "source": [
        "def calculate_average(numbers):\n",
        "    try:\n",
        "        total = sum(numbers)\n",
        "        count = len(numbers)\n",
        "        average = total / count\n",
        "        return average\n",
        "    except ZeroDivisionError:\n",
        "        print(\"Error: The list is empty. Cannot calculate average.\")\n",
        "        return None\n",
        "    except TypeError:\n",
        "        print(\"Error: The list contains non-numeric values.\")\n",
        "        return None\n",
        "\n",
        "# Example usage:\n",
        "numbers1 = [1, 2, 3, 4, 5]\n",
        "numbers2 = []  # Empty list\n",
        "numbers3 = [1, 2, 'a', 4, 5]  # List with non-numeric value\n",
        "\n",
        "# Calculate average for numbers1\n",
        "average1 = calculate_average(numbers1)\n",
        "if average1 is not None:\n",
        "    print(f\"Average of numbers1: {average1}\")\n",
        "\n",
        "# Calculate average for numbers2 (empty list)\n",
        "average2 = calculate_average(numbers2)\n",
        "if average2 is not None:\n",
        "    print(f\"Average of numbers2: {average2}\")\n",
        "\n",
        "# Calculate average for numbers3 (list with non-numeric value)\n",
        "average3 = calculate_average(numbers3)\n",
        "if average3 is not None:\n",
        "    print(f\"Average of numbers3: {average3}\")\n"
      ],
      "id": "1w2fs2rHb0Yn"
    },
    {
      "cell_type": "markdown",
      "metadata": {
        "id": "BMWPGYtgb0Yn"
      },
      "source": [
        "## Task 4: Lambda Expressions, Map, and Filter Functions"
      ],
      "id": "BMWPGYtgb0Yn"
    },
    {
      "cell_type": "markdown",
      "metadata": {
        "id": "lxnHIlrtb0Yo"
      },
      "source": [
        "### Lambda Expressions"
      ],
      "id": "lxnHIlrtb0Yo"
    },
    {
      "cell_type": "markdown",
      "metadata": {
        "id": "m4mJWCXxb0Yo"
      },
      "source": [
        "1. Use a lambda function with the `map` function to create a list of the squares of numbers from 1 to 5.\n",
        "2. Use a lambda function with the `filter` function to filter out all odd numbers from a list of integers from 1 to 10."
      ],
      "id": "m4mJWCXxb0Yo"
    },
    {
      "cell_type": "code",
      "execution_count": null,
      "metadata": {
        "colab": {
          "base_uri": "https://localhost:8080/"
        },
        "id": "XojZU2JPb0Yo",
        "outputId": "0c606b35-4f39-4394-f0b5-023ab437dfff"
      },
      "outputs": [
        {
          "output_type": "stream",
          "name": "stdout",
          "text": [
            "[1, 4, 9, 16, 25]\n"
          ]
        }
      ],
      "source": [
        "# Using lambda function with map to create a list of squares\n",
        "numbers = [1, 2, 3, 4, 5]\n",
        "squares = list(map(lambda x: x**2, numbers))\n",
        "\n",
        "print(squares)\n",
        "\n"
      ],
      "id": "XojZU2JPb0Yo"
    },
    {
      "cell_type": "code",
      "execution_count": null,
      "metadata": {
        "colab": {
          "base_uri": "https://localhost:8080/"
        },
        "id": "P2E50l5sb0Yp",
        "outputId": "c0b84a66-11b5-4168-f0e7-60a03f736780"
      },
      "outputs": [
        {
          "output_type": "stream",
          "name": "stdout",
          "text": [
            "[2, 4, 6, 8, 10]\n"
          ]
        }
      ],
      "source": [
        "# Using lambda function with filter to filter out odd numbers\n",
        "numbers = range(1, 11)  # List of integers from 1 to 10\n",
        "filtered_numbers = list(filter(lambda x: x % 2 == 0, numbers))\n",
        "\n",
        "print(filtered_numbers)\n",
        "\n"
      ],
      "id": "P2E50l5sb0Yp"
    },
    {
      "cell_type": "markdown",
      "metadata": {
        "id": "xEIEmAe7b0Yp"
      },
      "source": [
        "### Map and Filter Functions"
      ],
      "id": "xEIEmAe7b0Yp"
    },
    {
      "cell_type": "markdown",
      "metadata": {
        "id": "iOBru9ujb0Yp"
      },
      "source": [
        "1. Create a list of names. Use the `map` function to convert all names to uppercase.\n",
        "2. Use the `filter` function to create a list of numbers from 1 to 20 that are divisible by 3."
      ],
      "id": "iOBru9ujb0Yp"
    },
    {
      "cell_type": "code",
      "execution_count": null,
      "metadata": {
        "colab": {
          "base_uri": "https://localhost:8080/"
        },
        "id": "9Auj9OFXb0Yp",
        "outputId": "0266f8d5-8867-4324-dc2c-34406f8e17ab"
      },
      "outputs": [
        {
          "output_type": "stream",
          "name": "stdout",
          "text": [
            "['ALICE', 'BOB', 'CHARLIE', 'DAVID', 'EMILY']\n"
          ]
        }
      ],
      "source": [
        "# List of names\n",
        "names = [\"Alice\", \"Bob\", \"Charlie\", \"David\", \"Emily\"]\n",
        "\n",
        "# Using map with lambda to convert names to uppercase\n",
        "uppercase_names = list(map(lambda name: name.upper(), names))\n",
        "\n",
        "print(uppercase_names)\n",
        "\n"
      ],
      "id": "9Auj9OFXb0Yp"
    },
    {
      "cell_type": "code",
      "execution_count": null,
      "metadata": {
        "colab": {
          "base_uri": "https://localhost:8080/"
        },
        "id": "fqJRPYCqb0Yq",
        "outputId": "94b28348-2dad-49ce-9cc8-e3f13cbbf99b"
      },
      "outputs": [
        {
          "output_type": "stream",
          "name": "stdout",
          "text": [
            "[3, 6, 9, 12, 15, 18]\n"
          ]
        }
      ],
      "source": [
        "# Using filter with lambda to create a list of numbers divisible by 3\n",
        "numbers = range(1, 21)  # List of numbers from 1 to 20\n",
        "divisible_by_3 = list(filter(lambda x: x % 3 == 0, numbers))\n",
        "\n",
        "print(divisible_by_3)\n",
        "\n"
      ],
      "id": "fqJRPYCqb0Yq"
    }
  ],
  "metadata": {
    "kernelspec": {
      "display_name": "Python 3",
      "language": "python",
      "name": "python3"
    },
    "language_info": {
      "codemirror_mode": {
        "name": "ipython",
        "version": 3
      },
      "file_extension": ".py",
      "mimetype": "text/x-python",
      "name": "python",
      "nbconvert_exporter": "python",
      "pygments_lexer": "ipython3",
      "version": "3.9.13"
    },
    "colab": {
      "provenance": []
    }
  },
  "nbformat": 4,
  "nbformat_minor": 5
}